{
 "cells": [
  {
   "cell_type": "markdown",
   "id": "0908e62e",
   "metadata": {},
   "source": [
    "# Informe Grupo 08\n",
    "\n",
    "### Grupo M:\n",
    "     - Martin Borba - C.I...\n",
    "     - Francisco Casarotti - C.I... \n",
    "     - Stefano Graziani - 48938695\n"
   ]
  },
  {
   "cell_type": "markdown",
   "id": "dcad08c2",
   "metadata": {},
   "source": [
    "## 1. Objetivo\n",
    "El objetivo de esta tarea es entrenar un agente que recorra con exito dentro de ciertos mundos generados por MiniGrid.\n"
   ]
  },
  {
   "cell_type": "markdown",
   "id": "d402a3e0",
   "metadata": {},
   "source": [
    "## 2. Diseño\n"
   ]
  },
  {
   "cell_type": "markdown",
   "id": "27652d66",
   "metadata": {},
   "source": [
    "\n",
    "## 2.1 Juego\n",
    "En las versiones del juego utilizadas se cuenta con un agente y una casilla objetivo en un mundo hacia la cual el agente debe de avanzar para ganar el juego. El mundo puede tener elementos como paredes o lava que dificulten el camino hacia el objetivo del juego.\n",
    "\n",
    "El agente tiene vision total del tablero y se mueve por turnos, y en cada turno realiza una de las siguientes acciones: avanzar, girar a la izquierda o girar a la derecha. También se cuenta con un número máximo de movimientos, una vez que se alcanza este límite sin haber completado el objetivo el agente pierde.\n",
    "\n",
    "Existe una version secundaria del juego donde la vision del agente se ve reducida.\n",
    "\n",
    "El éxito del aprendizaje se mide a través del porcentage de victorias en el juego.\n",
    "\n",
    "## 2.2 Tablero\n",
    "Solamente se usaran tableros cuadrados para esta tarea. Se consideraran tres tipos:\n",
    "1. Tablero vacio, donde dentro de los limites del tablero las casillas son vacias a excepcion del objetivo. Se usó una configuracion con posicionamiento aleatorio del agente (MiniGrid-Empty-Random-6x6-v0).\n",
    "2. Tablero de cuatro habitaciones (MiniGrid-FourRooms-v0). En este existen paredes que separan el tablero en habitaciones y dificultan la navegacion. Tanto el agente como el objetivo pueden ser generados en cualquiera de las habitaciones\n",
    "3. Tablero con lava (MiniGrid-LavaGapS7-v0), este presenta una pequeña abertura en una linea vertical de lava la cual el agente debe de encontrar para alcanzar la meta.\n",
    "\n",
    "## 2.3 Algoritmo\n",
    "Se tomarion los siguientes atributos para implementar la valoración de los tableros\n",
    "- dx: Distancia hacia el objetivo en el eje horizontal.\n",
    "- dy: Distancia hacia el objetivo en el eje vertical.\n",
    "- .\n",
    "- .\n",
    "\n",
    "Es mediante estos atributos que se define la siguiente funcion de valoración\n",
    "```python\n",
    "Vop(t) = w0 * dx + w1 * dy ...\n",
    "```\n",
    "\n",
    "A modo de ejemplo, dado el siguiente tablero:\n",
    "{tablero ejemplo}\n",
    "Los valores son los siguientes:\n",
    "{resultado}\n",
    "\n",
    "Los valores de los denominados \"pesos\" `wi` son dados inicialmente, para luego ser ajustados durante el entrenamiento. El entrenamiento es dado por un juego completo representado como una secuencia de tableros donde el primer elemento de la secuencia indica el tablero comienzo de la partida y los siguientes indican los tableros luego de cada movimiento.\n",
    "\n",
    "Al finalizar una partida se recorre la secuencia de tableros de forma inversa. Se inicia con el tablero fin y se establece su valoración. Esta depende de si gano o no, si gano se retorna el valor `reward` (generado por MiniGrid al finalizar la partida, esta entre 0 y 1 e indica que tan eficientemente se resolvio el desafio), en caso contrario se asigna un valor negativo para penalizar (entre -1 y 0, se ajusta sumandole a -1 un factor arbitratio `closeness_reward` dividido por la distancia de taxista hasta el objetivo, a modo de no penalizar bruscamente tableros que estan cerca del objetivo).\n",
    "\n",
    "Luego se continua recorriendo los tableros anteriores asignando un valor \n"
   ]
  },
  {
   "cell_type": "markdown",
   "id": "39b766a5",
   "metadata": {},
   "source": [
    "## 3. Experimentación"
   ]
  },
  {
   "cell_type": "markdown",
   "id": "8869d261",
   "metadata": {},
   "source": [
    "## Tablero Vacio\n",
    "#### Prueba 1\n",
    "La primera prueba realizada retorno datos satisfactorios. Los valores utilizados para el lagoritmo se ven en la siguiente tabla:\n",
    "<table>\n",
    "  <tr style=\"font-weight:bold\">\n",
    "    <th></th>\n",
    "    <th style=\"text-align:center\">Pesos iniciales del modelo</th>\n",
    "    <th style=\"text-align:center\">Factor de aprendizaje</th>\n",
    "    <th style=\"text-align:center\">Factor de enfriamiento del aprendizaje</th>\n",
    "  </tr>\n",
    "  <tr>\n",
    "    <td style=\"font-weight:bold; text-align:left\">Valor</td>\n",
    "    <td style=\"text-align:center\"> [gx = -0.6, gy = -0.6, f = 0.05, r = 0.05, l = 0.05, 1 = 0.5] </td>\n",
    "    <td style=\"text-align:center\"> 0.1 </td>\n",
    "    <td style=\"text-align:center\"> 0.8 </td>\n",
    "  </tr>\n",
    "  </tr>    \n",
    "</table>\n"
   ]
  },
  {
   "cell_type": "code",
   "execution_count": 20,
   "id": "56829c6a",
   "metadata": {},
   "outputs": [
    {
     "ename": "ValueError",
     "evalue": "Invalid RGBA argument: 'tab:black'",
     "output_type": "error",
     "traceback": [
      "\u001b[0;31m---------------------------------------------------------------------------\u001b[0m",
      "\u001b[0;31mValueError\u001b[0m                                Traceback (most recent call last)",
      "\u001b[1;32m/home/stefano/Documents/Facultad/AATarea1/.ipynb_checkpoints/Informe.ipynb Cell 7\u001b[0m in \u001b[0;36m<cell line: 22>\u001b[0;34m()\u001b[0m\n\u001b[1;32m     <a href='vscode-notebook-cell:/home/stefano/Documents/Facultad/AATarea1/.ipynb_checkpoints/Informe.ipynb#X40sZmlsZQ%3D%3D?line=19'>20</a>\u001b[0m gy \u001b[39m=\u001b[39m patches\u001b[39m.\u001b[39mPatch(color\u001b[39m=\u001b[39m\u001b[39m'\u001b[39m\u001b[39mtab:purple\u001b[39m\u001b[39m'\u001b[39m, label\u001b[39m=\u001b[39m\u001b[39m'\u001b[39m\u001b[39mgy\u001b[39m\u001b[39m'\u001b[39m)\n\u001b[1;32m     <a href='vscode-notebook-cell:/home/stefano/Documents/Facultad/AATarea1/.ipynb_checkpoints/Informe.ipynb#X40sZmlsZQ%3D%3D?line=20'>21</a>\u001b[0m f \u001b[39m=\u001b[39m patches\u001b[39m.\u001b[39mPatch(color\u001b[39m=\u001b[39m\u001b[39m'\u001b[39m\u001b[39mtab:red\u001b[39m\u001b[39m'\u001b[39m, label\u001b[39m=\u001b[39m\u001b[39m'\u001b[39m\u001b[39mf\u001b[39m\u001b[39m'\u001b[39m)\n\u001b[0;32m---> <a href='vscode-notebook-cell:/home/stefano/Documents/Facultad/AATarea1/.ipynb_checkpoints/Informe.ipynb#X40sZmlsZQ%3D%3D?line=21'>22</a>\u001b[0m r \u001b[39m=\u001b[39m patches\u001b[39m.\u001b[39;49mPatch(color\u001b[39m=\u001b[39;49m\u001b[39m'\u001b[39;49m\u001b[39mtab:black\u001b[39;49m\u001b[39m'\u001b[39;49m, label\u001b[39m=\u001b[39;49m\u001b[39m'\u001b[39;49m\u001b[39mr\u001b[39;49m\u001b[39m'\u001b[39;49m)\n\u001b[1;32m     <a href='vscode-notebook-cell:/home/stefano/Documents/Facultad/AATarea1/.ipynb_checkpoints/Informe.ipynb#X40sZmlsZQ%3D%3D?line=22'>23</a>\u001b[0m l \u001b[39m=\u001b[39m patches\u001b[39m.\u001b[39mPatch(color\u001b[39m=\u001b[39m\u001b[39m'\u001b[39m\u001b[39mtab:green\u001b[39m\u001b[39m'\u001b[39m, label\u001b[39m=\u001b[39m\u001b[39m'\u001b[39m\u001b[39ml\u001b[39m\u001b[39m'\u001b[39m)\n\u001b[1;32m     <a href='vscode-notebook-cell:/home/stefano/Documents/Facultad/AATarea1/.ipynb_checkpoints/Informe.ipynb#X40sZmlsZQ%3D%3D?line=23'>24</a>\u001b[0m i \u001b[39m=\u001b[39m patches\u001b[39m.\u001b[39mPatch(color\u001b[39m=\u001b[39m\u001b[39m'\u001b[39m\u001b[39mtab:orange\u001b[39m\u001b[39m'\u001b[39m, label\u001b[39m=\u001b[39m\u001b[39m'\u001b[39m\u001b[39m1\u001b[39m\u001b[39m'\u001b[39m)\n",
      "File \u001b[0;32m~/.local/lib/python3.8/site-packages/matplotlib/patches.py:96\u001b[0m, in \u001b[0;36mPatch.__init__\u001b[0;34m(self, edgecolor, facecolor, color, linewidth, linestyle, antialiased, hatch, fill, capstyle, joinstyle, **kwargs)\u001b[0m\n\u001b[1;32m     92\u001b[0m     \u001b[39mif\u001b[39;00m edgecolor \u001b[39mis\u001b[39;00m \u001b[39mnot\u001b[39;00m \u001b[39mNone\u001b[39;00m \u001b[39mor\u001b[39;00m facecolor \u001b[39mis\u001b[39;00m \u001b[39mnot\u001b[39;00m \u001b[39mNone\u001b[39;00m:\n\u001b[1;32m     93\u001b[0m         _api\u001b[39m.\u001b[39mwarn_external(\n\u001b[1;32m     94\u001b[0m             \u001b[39m\"\u001b[39m\u001b[39mSetting the \u001b[39m\u001b[39m'\u001b[39m\u001b[39mcolor\u001b[39m\u001b[39m'\u001b[39m\u001b[39m property will override \u001b[39m\u001b[39m\"\u001b[39m\n\u001b[1;32m     95\u001b[0m             \u001b[39m\"\u001b[39m\u001b[39mthe edgecolor or facecolor properties.\u001b[39m\u001b[39m\"\u001b[39m)\n\u001b[0;32m---> 96\u001b[0m     \u001b[39mself\u001b[39;49m\u001b[39m.\u001b[39;49mset_color(color)\n\u001b[1;32m     97\u001b[0m \u001b[39melse\u001b[39;00m:\n\u001b[1;32m     98\u001b[0m     \u001b[39mself\u001b[39m\u001b[39m.\u001b[39mset_edgecolor(edgecolor)\n",
      "File \u001b[0;32m~/.local/lib/python3.8/site-packages/matplotlib/patches.py:388\u001b[0m, in \u001b[0;36mPatch.set_color\u001b[0;34m(self, c)\u001b[0m\n\u001b[1;32m    375\u001b[0m \u001b[39mdef\u001b[39;00m \u001b[39mset_color\u001b[39m(\u001b[39mself\u001b[39m, c):\n\u001b[1;32m    376\u001b[0m     \u001b[39m\"\"\"\u001b[39;00m\n\u001b[1;32m    377\u001b[0m \u001b[39m    Set both the edgecolor and the facecolor.\u001b[39;00m\n\u001b[1;32m    378\u001b[0m \n\u001b[0;32m   (...)\u001b[0m\n\u001b[1;32m    386\u001b[0m \u001b[39m        For setting the edge or face color individually.\u001b[39;00m\n\u001b[1;32m    387\u001b[0m \u001b[39m    \"\"\"\u001b[39;00m\n\u001b[0;32m--> 388\u001b[0m     \u001b[39mself\u001b[39;49m\u001b[39m.\u001b[39;49mset_facecolor(c)\n\u001b[1;32m    389\u001b[0m     \u001b[39mself\u001b[39m\u001b[39m.\u001b[39mset_edgecolor(c)\n",
      "File \u001b[0;32m~/.local/lib/python3.8/site-packages/matplotlib/patches.py:373\u001b[0m, in \u001b[0;36mPatch.set_facecolor\u001b[0;34m(self, color)\u001b[0m\n\u001b[1;32m    365\u001b[0m \u001b[39m\"\"\"\u001b[39;00m\n\u001b[1;32m    366\u001b[0m \u001b[39mSet the patch face color.\u001b[39;00m\n\u001b[1;32m    367\u001b[0m \n\u001b[0;32m   (...)\u001b[0m\n\u001b[1;32m    370\u001b[0m \u001b[39mcolor : color or None\u001b[39;00m\n\u001b[1;32m    371\u001b[0m \u001b[39m\"\"\"\u001b[39;00m\n\u001b[1;32m    372\u001b[0m \u001b[39mself\u001b[39m\u001b[39m.\u001b[39m_original_facecolor \u001b[39m=\u001b[39m color\n\u001b[0;32m--> 373\u001b[0m \u001b[39mself\u001b[39;49m\u001b[39m.\u001b[39;49m_set_facecolor(color)\n",
      "File \u001b[0;32m~/.local/lib/python3.8/site-packages/matplotlib/patches.py:361\u001b[0m, in \u001b[0;36mPatch._set_facecolor\u001b[0;34m(self, color)\u001b[0m\n\u001b[1;32m    359\u001b[0m     color \u001b[39m=\u001b[39m mpl\u001b[39m.\u001b[39mrcParams[\u001b[39m'\u001b[39m\u001b[39mpatch.facecolor\u001b[39m\u001b[39m'\u001b[39m]\n\u001b[1;32m    360\u001b[0m alpha \u001b[39m=\u001b[39m \u001b[39mself\u001b[39m\u001b[39m.\u001b[39m_alpha \u001b[39mif\u001b[39;00m \u001b[39mself\u001b[39m\u001b[39m.\u001b[39m_fill \u001b[39melse\u001b[39;00m \u001b[39m0\u001b[39m\n\u001b[0;32m--> 361\u001b[0m \u001b[39mself\u001b[39m\u001b[39m.\u001b[39m_facecolor \u001b[39m=\u001b[39m colors\u001b[39m.\u001b[39;49mto_rgba(color, alpha)\n\u001b[1;32m    362\u001b[0m \u001b[39mself\u001b[39m\u001b[39m.\u001b[39mstale \u001b[39m=\u001b[39m \u001b[39mTrue\u001b[39;00m\n",
      "File \u001b[0;32m~/.local/lib/python3.8/site-packages/matplotlib/colors.py:187\u001b[0m, in \u001b[0;36mto_rgba\u001b[0;34m(c, alpha)\u001b[0m\n\u001b[1;32m    185\u001b[0m     rgba \u001b[39m=\u001b[39m \u001b[39mNone\u001b[39;00m\n\u001b[1;32m    186\u001b[0m \u001b[39mif\u001b[39;00m rgba \u001b[39mis\u001b[39;00m \u001b[39mNone\u001b[39;00m:  \u001b[39m# Suppress exception chaining of cache lookup failure.\u001b[39;00m\n\u001b[0;32m--> 187\u001b[0m     rgba \u001b[39m=\u001b[39m _to_rgba_no_colorcycle(c, alpha)\n\u001b[1;32m    188\u001b[0m     \u001b[39mtry\u001b[39;00m:\n\u001b[1;32m    189\u001b[0m         _colors_full_map\u001b[39m.\u001b[39mcache[c, alpha] \u001b[39m=\u001b[39m rgba\n",
      "File \u001b[0;32m~/.local/lib/python3.8/site-packages/matplotlib/colors.py:262\u001b[0m, in \u001b[0;36m_to_rgba_no_colorcycle\u001b[0;34m(c, alpha)\u001b[0m\n\u001b[1;32m    258\u001b[0m             \u001b[39mraise\u001b[39;00m \u001b[39mValueError\u001b[39;00m(\n\u001b[1;32m    259\u001b[0m                 \u001b[39mf\u001b[39m\u001b[39m\"\u001b[39m\u001b[39mInvalid string grayscale value \u001b[39m\u001b[39m{\u001b[39;00morig_c\u001b[39m!r}\u001b[39;00m\u001b[39m. \u001b[39m\u001b[39m\"\u001b[39m\n\u001b[1;32m    260\u001b[0m                 \u001b[39mf\u001b[39m\u001b[39m\"\u001b[39m\u001b[39mValue must be within 0-1 range\u001b[39m\u001b[39m\"\u001b[39m)\n\u001b[1;32m    261\u001b[0m         \u001b[39mreturn\u001b[39;00m c, c, c, alpha \u001b[39mif\u001b[39;00m alpha \u001b[39mis\u001b[39;00m \u001b[39mnot\u001b[39;00m \u001b[39mNone\u001b[39;00m \u001b[39melse\u001b[39;00m \u001b[39m1.\u001b[39m\n\u001b[0;32m--> 262\u001b[0m     \u001b[39mraise\u001b[39;00m \u001b[39mValueError\u001b[39;00m(\u001b[39mf\u001b[39m\u001b[39m\"\u001b[39m\u001b[39mInvalid RGBA argument: \u001b[39m\u001b[39m{\u001b[39;00morig_c\u001b[39m!r}\u001b[39;00m\u001b[39m\"\u001b[39m)\n\u001b[1;32m    263\u001b[0m \u001b[39m# turn 2-D array into 1-D array\u001b[39;00m\n\u001b[1;32m    264\u001b[0m \u001b[39mif\u001b[39;00m \u001b[39misinstance\u001b[39m(c, np\u001b[39m.\u001b[39mndarray):\n",
      "\u001b[0;31mValueError\u001b[0m: Invalid RGBA argument: 'tab:black'"
     ]
    },
    {
     "data": {
      "image/png": "[encoded data removed]",
      "text/plain": [
       "<Figure size 640x480 with 1 Axes>"
      ]
     },
     "metadata": {},
     "output_type": "display_data"
    }
   ],
   "source": [
    "import numpy as np\n",
    "import matplotlib.pyplot as plot\n",
    "import matplotlib.patches as patches\n",
    "\n",
    "plot.plot([10,20,30,40,50,60,70,80,90,100,110,120,130,140,150,160,170,180,190,200,210,220,230,240,250],\n",
    "            [50,80,100,100,100,100,100,100,100,100,100,100,100,100,100,100,100,100,100,100,100,100,100,100,100],\n",
    "            'tab:blue',\n",
    "            [10,20,30,40,50,60,70,80,90,100,110,120,130,140,150,160,170,180,190,200,210,220,230,240,250],\n",
    "            [40,20,0,10,50,10,10,60,20,0,50,60,90,100,100,100,100,100,100,90,0,0,0,0,0],\n",
    "            'tab:purple',\n",
    "            [10,20,30,40,50,60,70,80,90,100,110,120,130,140,150,160,170,180,190,200,210,220,230,240,250],\n",
    "            [70,100,40,0,50,100,100,100,100,100,100,100,100,100,100,100,100,100,100,100,100,100,100,100,100],\n",
    "            'tab:red'\n",
    "            [10,20,30,40,50,60,70,80,90,100,110,120,130,140,150,160,170,180,190,200,210,220,230,240,250],\n",
    "            [70,100,40,0,50,100,100,100,100,100,100,100,100,100,100,100,100,100,100,100,100,100,100,100,100],\n",
    "            'tab:black'\n",
    "            [10,20,30,40,50,60,70,80,90,100,110,120,130,140,150,160,170,180,190,200,210,220,230,240,250],\n",
    "            [70,100,40,0,50,100,100,100,100,100,100,100,100,100,100,100,100,100,100,100,100,100,100,100,100],\n",
    "            'tab:green'\n",
    "            [10,20,30,40,50,60,70,80,90,100,110,120,130,140,150,160,170,180,190,200,210,220,230,240,250],\n",
    "            [70,100,40,0,50,100,100,100,100,100,100,100,100,100,100,100,100,100,100,100,100,100,100,100,100],\n",
    "            'tab:orange')\n",
    "\n",
    "plot.xlabel('Partidas jugadas')\n",
    "plot.ylabel('Valor pesos')\n",
    "plot.title('Valor de los pesos wi en el tiempo')\n",
    "\n",
    "gx = patches.Patch(color='tab:blue', label='gx')\n",
    "gy = patches.Patch(color='tab:purple', label='gy')\n",
    "f = patches.Patch(color='tab:red', label='f')\n",
    "r = patches.Patch(color='tab:black', label='r')\n",
    "l = patches.Patch(color='tab:green', label='l')\n",
    "i = patches.Patch(color='tab:orange', label='1')\n",
    "\n",
    "plot.legend(handles=[gx, gy, f, r, l, i])\n",
    "\n",
    "plot.figure()\n"
   ]
  },
  {
   "cell_type": "markdown",
   "id": "8a1d80c5",
   "metadata": {},
   "source": [
    "\n",
    "#### Prueba 2\n",
    "\n",
    "## Tablero de Cuatro Habitaciones\n",
    "#### Prueba 1\n",
    "\n",
    "#### Prueba n\n",
    "\n",
    "## Tablero con Camino de Lava\n",
    "\n",
    "#### Prueba 1\n",
    "5x5, 16/60 bastante bien, se quiere comparar su performance contra uno random\n",
    "#### Prueba 2\n",
    "5x5 Random, 3/60\n",
    "#### Prueba 3\n",
    "7x7, 0/60\n",
    "#### Prueba 4\n",
    "5x5, parametros de tablero vacio"
   ]
  },
  {
   "cell_type": "markdown",
   "id": "624c7a01",
   "metadata": {},
   "source": [
    "## 4. Conclusión"
   ]
  },
  {
   "cell_type": "markdown",
   "id": "5e9187ff",
   "metadata": {},
   "source": []
  },
  {
   "cell_type": "code",
   "execution_count": null,
   "id": "391ddc08",
   "metadata": {},
   "outputs": [],
   "source": [
    "#!/usr/bin/env python3\n",
    "import argparse\n",
    "import gym\n",
    "# This will register the gym_minigrid envs\n",
    "from gym_minigrid import envs, wrappers\n",
    "from gym_minigrid.minigrid import OBJECT_TO_IDX, IDX_TO_OBJECT\n",
    "\n",
    "\n",
    "AGENT_DIR_TO_STR = {0: \">\", 1: \"V\", 2: \"<\", 3: \"^\"}\n",
    "DEFAULT_ENV = 'MiniGrid-FourRooms-v0'#'MiniGrid-SimpleCrossingS9N1-v0'  # 'MiniGrid-FourRooms-v0'"
   ]
  },
  {
   "cell_type": "code",
   "execution_count": null,
   "id": "86f0f57f",
   "metadata": {},
   "outputs": [],
   "source": [
    "# Let's get the arguments\n",
    "parser = argparse.ArgumentParser()\n",
    "parser.add_argument(\"--env\", type=str, default=DEFAULT_ENV, required=False, help=F\"Name of the environment (default: {DEFAULT_ENV})\")\n",
    "args = parser.parse_args(args=[])"
   ]
  },
  {
   "cell_type": "code",
   "execution_count": null,
   "id": "1b3c0893",
   "metadata": {},
   "outputs": [
    {
     "name": "stdout",
     "output_type": "stream",
     "text": [
      "\n",
      "Running over MiniGrid-FourRooms-v0\n"
     ]
    },
    {
     "name": "stderr",
     "output_type": "stream",
     "text": [
      "/home/stefano/.local/lib/python3.8/site-packages/gym/core.py:329: DeprecationWarning: \u001b[33mWARN: Initializing wrapper in old step API which returns one bool instead of two. It is recommended to set `new_step_api=True` to use new step API. This will be the default behaviour in future.\u001b[0m\n",
      "  deprecation(\n",
      "/home/stefano/.local/lib/python3.8/site-packages/gym/wrappers/step_api_compatibility.py:39: DeprecationWarning: \u001b[33mWARN: Initializing environment in old step API which returns one bool instead of two. It is recommended to set `new_step_api=True` to use new step API. This will be the default behaviour in future.\u001b[0m\n",
      "  deprecation(\n"
     ]
    },
    {
     "data": {
      "text/plain": [
       "'\\nwrappers.SymbolicObsWrapper:\\n    Fully observable grid with a symbolic state representation.\\n    The symbol is a triple of (X, Y, IDX), where X and Y are\\n    the coordinates on the grid, and IDX is the id of the object.\\n'"
      ]
     },
     "execution_count": 4,
     "metadata": {},
     "output_type": "execute_result"
    }
   ],
   "source": [
    "# Just play around to show what we can do\n",
    "print(f\"\\nRunning over {args.env}\")\n",
    "environment = gym.make(args.env, render_mode=\"human\") #creo el enviormente\n",
    "environment = wrappers.SymbolicObsWrapper(environment)\n",
    "\"\"\"\n",
    "wrappers.SymbolicObsWrapper:\n",
    "    Fully observable grid with a symbolic state representation.\n",
    "    The symbol is a triple of (X, Y, IDX), where X and Y are\n",
    "    the coordinates on the grid, and IDX is the id of the object.\n",
    "\"\"\"\n"
   ]
  },
  {
   "cell_type": "code",
   "execution_count": null,
   "id": "9751c350",
   "metadata": {},
   "outputs": [
    {
     "name": "stdout",
     "output_type": "stream",
     "text": [
      "\n",
      "\n",
      "Environment loaded\n",
      "This is our world:\n",
      "\n",
      "[[[ 0  0  2]\n",
      "  [ 0  1  2]\n",
      "  [ 0  2  2]\n",
      "  ...\n",
      "  [ 0 16  2]\n",
      "  [ 0 17  2]\n",
      "  [ 0 18  2]]\n",
      "\n",
      " [[ 1  0  2]\n",
      "  [ 1  1 -1]\n",
      "  [ 1  2 -1]\n",
      "  ...\n",
      "  [ 1 16 -1]\n",
      "  [ 1 17 -1]\n",
      "  [ 1 18  2]]\n",
      "\n",
      " [[ 2  0  2]\n",
      "  [ 2  1 -1]\n",
      "  [ 2  2 -1]\n",
      "  ...\n",
      "  [ 2 16 -1]\n",
      "  [ 2 17 -1]\n",
      "  [ 2 18  2]]\n",
      "\n",
      " ...\n",
      "\n",
      " [[16  0  2]\n",
      "  [16  1 -1]\n",
      "  [16  2 -1]\n",
      "  ...\n",
      "  [16 16 -1]\n",
      "  [16 17 -1]\n",
      "  [16 18  2]]\n",
      "\n",
      " [[17  0  2]\n",
      "  [17  1 -1]\n",
      "  [17  2 -1]\n",
      "  ...\n",
      "  [17 16 -1]\n",
      "  [17 17 -1]\n",
      "  [17 18  2]]\n",
      "\n",
      " [[18  0  2]\n",
      "  [18  1  2]\n",
      "  [18  2  2]\n",
      "  ...\n",
      "  [18 16  2]\n",
      "  [18 17  2]\n",
      "  [18 18  2]]]\n"
     ]
    }
   ],
   "source": [
    "obs = environment.reset()\n",
    "print(\"\\n\\nEnvironment loaded\")\n",
    "print(\"This is our world:\\n\")\n",
    "print(obs['image'])"
   ]
  },
  {
   "cell_type": "code",
   "execution_count": null,
   "id": "7e72afd5",
   "metadata": {},
   "outputs": [
    {
     "name": "stdout",
     "output_type": "stream",
     "text": [
      "\n",
      "This is a list of rows (X is constant). Each row is a list of cells. Each cell has three components.\n",
      "First and second components are X-axis and Y-axis coordinates (column, row), but inverted. Third component is what there is in the cell (value -1 equals nothing):\n",
      "\n",
      "\tunseen: 0\n",
      "\tempty: 1\n",
      "\twall: 2\n",
      "\tfloor: 3\n",
      "\tdoor: 4\n",
      "\tkey: 5\n",
      "\tball: 6\n",
      "\tbox: 7\n",
      "\tgoal: 8\n",
      "\tlava: 9\n",
      "\tagent: 10\n"
     ]
    }
   ],
   "source": [
    "print(\"\\nThis is a list of rows (X is constant). Each row is a list of cells. Each cell has three components.\")\n",
    "print(\"First and second components are X-axis and Y-axis coordinates (column, row), but inverted. Third component is what there is in the cell (value -1 equals nothing):\\n\")\n",
    "for object, idx in OBJECT_TO_IDX.items():\n",
    "    print(f\"\\t{object}: {idx}\")"
   ]
  },
  {
   "cell_type": "code",
   "execution_count": null,
   "id": "956c967c",
   "metadata": {},
   "outputs": [
    {
     "name": "stdout",
     "output_type": "stream",
     "text": [
      "\n",
      "The agent is now in (17, 7).\n"
     ]
    }
   ],
   "source": [
    "# Check cells (y conseguir la pos del agente)\n",
    "agent_pos = environment.agent_pos\n",
    "print(f\"\\nThe agent is now in {agent_pos[0], agent_pos[1]}.\")"
   ]
  },
  {
   "cell_type": "code",
   "execution_count": null,
   "id": "f5236768",
   "metadata": {},
   "outputs": [],
   "source": [
    "def print_world(image, agent_dir, agent_pos):\n",
    "    for y_axis in image:\n",
    "        print(\"\\n\\t\")\n",
    "        for cell in y_axis:\n",
    "            cell_render = AGENT_DIR_TO_STR[agent_dir] if (cell[1] == agent_pos[0] and cell[0] == agent_pos[1]) \\\n",
    "                else IDX_TO_OBJECT[cell[2]][0].upper() if cell[2] > -1 else '_'\n",
    "            print(cell_render, end='   ')"
   ]
  },
  {
   "cell_type": "code",
   "execution_count": null,
   "id": "f464d9a2",
   "metadata": {},
   "outputs": [],
   "source": [
    "def print_invert_world(world_dic, agent_dir, agent_pos):\n",
    "    l = len(world_dic)\n",
    "    for j in range (l):\n",
    "        print(\"\\n\\t\")\n",
    "        for i in range(l):\n",
    "            if (i == agent_pos[0] and j == agent_pos[1]):\n",
    "                cell_render = AGENT_DIR_TO_STR[agent_dir]\n",
    "            elif world_dic[i][j] > -1:\n",
    "                cell_render = IDX_TO_OBJECT[world_dic[i][j]][0].upper()\n",
    "            else:\n",
    "                cell_render = '_'\n",
    "            print(cell_render, end='   ')"
   ]
  },
  {
   "cell_type": "code",
   "execution_count": null,
   "id": "09eadc97",
   "metadata": {},
   "outputs": [],
   "source": [
    "def invert_world(matrix):\n",
    "    \n",
    "    new_world={}\n",
    "    l = len(matrix)\n",
    "    \n",
    "    for i in range(l):\n",
    "        new_world[i]={}\n",
    "        for j in range(l):\n",
    "            new_world[i][j] = {}\n",
    "            \n",
    "    for i in range(l):\n",
    "        for j in range(l):\n",
    "            new_world[j][i] = matrix[i][j][2]\n",
    "            \n",
    "    return new_world"
   ]
  },
  {
   "cell_type": "code",
   "execution_count": null,
   "id": "15e3ae11",
   "metadata": {},
   "outputs": [
    {
     "name": "stdout",
     "output_type": "stream",
     "text": [
      "\n",
      "So this is our pretty version of our world: \n",
      "\n",
      "\t\n",
      "W   W   W   W   W   W   W   W   W   W   W   W   W   W   W   W   W   W   W   \n",
      "\t\n",
      "W   _   _   _   _   _   _   _   _   W   _   _   _   _   _   _   _   _   W   \n",
      "\t\n",
      "W   _   _   _   _   _   _   _   _   _   _   _   _   _   _   _   _   _   W   \n",
      "\t\n",
      "W   _   _   _   _   _   _   _   _   W   _   _   _   _   _   _   _   _   W   \n",
      "\t\n",
      "W   _   _   _   _   _   _   _   _   W   _   _   _   _   _   _   _   _   W   \n",
      "\t\n",
      "W   _   _   _   _   _   _   _   _   W   _   _   _   _   _   _   _   _   W   \n",
      "\t\n",
      "W   _   _   _   _   _   _   _   _   W   _   _   _   _   _   _   _   _   W   \n",
      "\t\n",
      "W   _   _   _   _   _   _   _   _   W   _   _   _   _   _   _   _   V   W   \n",
      "\t\n",
      "W   _   _   _   _   _   _   _   _   W   _   _   _   _   _   _   _   _   W   \n",
      "\t\n",
      "W   W   W   _   W   W   W   W   W   W   W   W   _   W   W   W   W   W   W   \n",
      "\t\n",
      "W   _   _   _   _   _   _   _   _   W   _   _   _   _   _   _   _   _   W   \n",
      "\t\n",
      "W   _   _   _   _   _   _   _   _   W   G   _   _   _   _   _   _   _   W   \n",
      "\t\n",
      "W   _   _   _   _   _   _   _   _   W   _   _   _   _   _   _   _   _   W   \n",
      "\t\n",
      "W   _   _   _   _   _   _   _   _   W   _   _   _   _   _   _   _   _   W   \n",
      "\t\n",
      "W   _   _   _   _   _   _   _   _   W   _   _   _   _   _   _   _   _   W   \n",
      "\t\n",
      "W   _   _   _   _   _   _   _   _   W   _   _   _   _   _   _   _   _   W   \n",
      "\t\n",
      "W   _   _   _   _   _   _   _   _   _   _   _   _   _   _   _   _   _   W   \n",
      "\t\n",
      "W   _   _   _   _   _   _   _   _   W   _   _   _   _   _   _   _   _   W   \n",
      "\t\n",
      "W   W   W   W   W   W   W   W   W   W   W   W   W   W   W   W   W   W   W   "
     ]
    }
   ],
   "source": [
    "#So the world looks like\n",
    "print(\"\\nSo this is our pretty version of our world: \")\n",
    "print_invert_world(invert_world(obs['image']), environment.agent_dir, agent_pos)"
   ]
  },
  {
   "cell_type": "code",
   "execution_count": null,
   "id": "ccd172c6",
   "metadata": {},
   "outputs": [
    {
     "name": "stdout",
     "output_type": "stream",
     "text": [
      "\n",
      "So this is our pretty version of our world: \n",
      "\n",
      "\t\n",
      "W   W   W   W   W   W   W   W   W   W   W   W   W   W   W   W   W   W   W   \n",
      "\t\n",
      "W   _   _   _   _   _   _   _   _   W   _   _   _   _   _   _   _   _   W   \n",
      "\t\n",
      "W   _   _   _   _   _   _   _   _   _   _   _   _   _   _   _   _   _   W   \n",
      "\t\n",
      "W   _   _   _   _   _   _   _   _   W   _   _   _   _   _   _   _   _   W   \n",
      "\t\n",
      "W   _   _   _   _   _   _   _   _   W   _   _   _   _   _   _   _   _   W   \n",
      "\t\n",
      "W   _   _   _   _   _   _   _   _   W   _   _   _   _   _   _   _   _   W   \n",
      "\t\n",
      "W   _   _   _   _   _   _   _   _   W   _   _   _   _   _   _   _   _   W   \n",
      "\t\n",
      "W   _   _   _   _   _   _   _   _   W   _   _   _   _   _   _   _   V   W   \n",
      "\t\n",
      "W   _   _   _   _   _   _   _   _   W   _   _   _   _   _   _   _   _   W   \n",
      "\t\n",
      "W   W   W   _   W   W   W   W   W   W   W   W   _   W   W   W   W   W   W   \n",
      "\t\n",
      "W   _   _   _   _   _   _   _   _   W   _   _   _   _   _   _   _   _   W   \n",
      "\t\n",
      "W   _   _   _   _   _   _   _   _   W   G   _   _   _   _   _   _   _   W   \n",
      "\t\n",
      "W   _   _   _   _   _   _   _   _   W   _   _   _   _   _   _   _   _   W   \n",
      "\t\n",
      "W   _   _   _   _   _   _   _   _   W   _   _   _   _   _   _   _   _   W   \n",
      "\t\n",
      "W   _   _   _   _   _   _   _   _   W   _   _   _   _   _   _   _   _   W   \n",
      "\t\n",
      "W   _   _   _   _   _   _   _   _   W   _   _   _   _   _   _   _   _   W   \n",
      "\t\n",
      "W   _   _   _   _   _   _   _   _   _   _   _   _   _   _   _   _   _   W   \n",
      "\t\n",
      "W   _   _   _   _   _   _   _   _   W   _   _   _   _   _   _   _   _   W   \n",
      "\t\n",
      "W   W   W   W   W   W   W   W   W   W   W   W   W   W   W   W   W   W   W   "
     ]
    }
   ],
   "source": [
    "#So the world looks like\n",
    "print(\"\\nSo this is our pretty version of our world: \")\n",
    "print_world(obs['image'], environment.agent_dir, agent_pos)"
   ]
  },
  {
   "cell_type": "code",
   "execution_count": null,
   "id": "1c605235",
   "metadata": {},
   "outputs": [
    {
     "data": {
      "text/plain": [
       "'def find_wall(pos_ini,pos_fin,vec):\\n    if pos_ini < pos_fin:\\n        while pos_ini<pos_fin:\\n            if vec[pos_ini] == 2:\\n                wall.append(pos_fin-pos_ini)\\n                break;\\n            else:\\n                i+=1\\n    else:       \\n        while pos_ini>pos_fin:\\n            if vec[pos_ini] == 2:\\n                wall.append(pos_ini-pos_fin)\\n                break;\\n            else:\\n                pos_ini-=1\\n                '"
      ]
     },
     "execution_count": 13,
     "metadata": {},
     "output_type": "execute_result"
    }
   ],
   "source": [
    "\"\"\"def find_wall(pos_ini,pos_fin,vec):\n",
    "    if pos_ini < pos_fin:\n",
    "        while pos_ini<pos_fin:\n",
    "            if vec[pos_ini] == 2:\n",
    "                wall.append(pos_fin-pos_ini)\n",
    "                break;\n",
    "            else:\n",
    "                i+=1\n",
    "    else:       \n",
    "        while pos_ini>pos_fin:\n",
    "            if vec[pos_ini] == 2:\n",
    "                wall.append(pos_ini-pos_fin)\n",
    "                break;\n",
    "            else:\n",
    "                pos_ini-=1\n",
    "                \"\"\""
   ]
  },
  {
   "cell_type": "code",
   "execution_count": null,
   "id": "9e61b0c2",
   "metadata": {},
   "outputs": [],
   "source": [
    "def walls_axis(agent_pos_x,agent_pos_y,world):#[wall_east,wall_south,wall_west,wall_north]\n",
    "    l = len(world)\n",
    "    wall = []\n",
    "        \n",
    "    for i in range(agent_pos_x,l):\n",
    "        if world[i][agent_pos_y] == 2:\n",
    "            wall.append(i-agent_pos_x)\n",
    "            break;\n",
    "    for j in range(agent_pos_y,l):\n",
    "        if world[agent_pos_x][j] == 2:\n",
    "            wall.append(j-agent_pos_y)\n",
    "            break;\n",
    "         \n",
    "    for i in range(agent_pos_x,-1,-1):\n",
    "        if world[i][agent_pos_y] == 2:\n",
    "            wall.append(agent_pos_x-i)\n",
    "            break;\n",
    "            \n",
    "    for j in range(agent_pos_y,-1,-1):\n",
    "        if world[agent_pos_x][j] == 2:\n",
    "            wall.append(agent_pos_y-j)\n",
    "            break;\n",
    "               \n",
    "    return wall\n",
    "            "
   ]
  },
  {
   "cell_type": "code",
   "execution_count": null,
   "id": "da7f171d",
   "metadata": {},
   "outputs": [],
   "source": [
    "#calcula la distancia a cada parede segun su sentido de la orietacion\n",
    "def walls(agent_pos_x,agent_pos_y,world): #world -> obs['image'] invertido\n",
    "    walls = walls_axis(agent_pos_x,agent_pos_y,world)\n",
    "    ad = environment.agent_dir\n",
    "    wall_dirs = []\n",
    "    for i in range(ad,ad+4):\n",
    "        wall_dirs.append(walls[i%4])\n",
    "    print(walls)#(este, sur, oeste, norte)\n",
    "    print(wall_dirs)#(frente,derecha,atras,izquierda)"
   ]
  },
  {
   "cell_type": "code",
   "execution_count": null,
   "id": "cf74b5a1",
   "metadata": {},
   "outputs": [
    {
     "name": "stdout",
     "output_type": "stream",
     "text": [
      "[1, 2, 8, 7]\n",
      "[2, 8, 7, 1]\n"
     ]
    }
   ],
   "source": [
    "walls(agent_pos[0],agent_pos[1],invert_world(obs['image']))"
   ]
  },
  {
   "cell_type": "code",
   "execution_count": null,
   "id": "38110215",
   "metadata": {},
   "outputs": [
    {
     "name": "stderr",
     "output_type": "stream",
     "text": [
      "/home/stefano/.local/lib/python3.8/site-packages/gym/utils/passive_env_checker.py:227: DeprecationWarning: \u001b[33mWARN: Core environment is written in old step API which returns one bool instead of two. It is recommended to rewrite the environment with new step API. \u001b[0m\n",
      "  logger.deprecation(\n"
     ]
    },
    {
     "data": {
      "text/plain": [
       "({'image': array([[[ 0,  0,  2],\n",
       "          [ 0,  1,  2],\n",
       "          [ 0,  2,  2],\n",
       "          ...,\n",
       "          [ 0, 16,  2],\n",
       "          [ 0, 17,  2],\n",
       "          [ 0, 18,  2]],\n",
       "  \n",
       "         [[ 1,  0,  2],\n",
       "          [ 1,  1, -1],\n",
       "          [ 1,  2, -1],\n",
       "          ...,\n",
       "          [ 1, 16, -1],\n",
       "          [ 1, 17, -1],\n",
       "          [ 1, 18,  2]],\n",
       "  \n",
       "         [[ 2,  0,  2],\n",
       "          [ 2,  1, -1],\n",
       "          [ 2,  2, -1],\n",
       "          ...,\n",
       "          [ 2, 16, -1],\n",
       "          [ 2, 17, -1],\n",
       "          [ 2, 18,  2]],\n",
       "  \n",
       "         ...,\n",
       "  \n",
       "         [[16,  0,  2],\n",
       "          [16,  1, -1],\n",
       "          [16,  2, -1],\n",
       "          ...,\n",
       "          [16, 16, -1],\n",
       "          [16, 17, -1],\n",
       "          [16, 18,  2]],\n",
       "  \n",
       "         [[17,  0,  2],\n",
       "          [17,  1, -1],\n",
       "          [17,  2, -1],\n",
       "          ...,\n",
       "          [17, 16, -1],\n",
       "          [17, 17, -1],\n",
       "          [17, 18,  2]],\n",
       "  \n",
       "         [[18,  0,  2],\n",
       "          [18,  1,  2],\n",
       "          [18,  2,  2],\n",
       "          ...,\n",
       "          [18, 16,  2],\n",
       "          [18, 17,  2],\n",
       "          [18, 18,  2]]]),\n",
       "  'direction': 3,\n",
       "  'mission': 'reach the goal'},\n",
       " 0,\n",
       " False,\n",
       " {})"
      ]
     },
     "execution_count": 17,
     "metadata": {},
     "output_type": "execute_result"
    }
   ],
   "source": [
    "environment.step(environment.actions.right)\n",
    "environment.step(environment.actions.right)\n",
    "\n"
   ]
  },
  {
   "cell_type": "code",
   "execution_count": null,
   "id": "f4f82ec6",
   "metadata": {},
   "outputs": [],
   "source": [
    "\n",
    "n_obs, reward, done, _ = environment.step(environment.actions.forward)"
   ]
  },
  {
   "cell_type": "code",
   "execution_count": null,
   "id": "7066470f",
   "metadata": {},
   "outputs": [
    {
     "name": "stdout",
     "output_type": "stream",
     "text": [
      "False\n"
     ]
    }
   ],
   "source": [
    "print(done)"
   ]
  },
  {
   "cell_type": "code",
   "execution_count": null,
   "id": "d2cf15ce",
   "metadata": {},
   "outputs": [],
   "source": []
  }
 ],
 "metadata": {
  "kernelspec": {
   "display_name": "Python 3.8.10 64-bit",
   "language": "python",
   "name": "python3"
  },
  "language_info": {
   "codemirror_mode": {
    "name": "ipython",
    "version": 3
   },
   "file_extension": ".py",
   "mimetype": "text/x-python",
   "name": "python",
   "nbconvert_exporter": "python",
   "pygments_lexer": "ipython3",
   "version": "3.8.10"
  },
  "vscode": {
   "interpreter": {
    "hash": "916dbcbb3f70747c44a77c7bcd40155683ae19c65e1c03b4aa3499c5328201f1"
   }
  }
 },
 "nbformat": 4,
 "nbformat_minor": 5
}
