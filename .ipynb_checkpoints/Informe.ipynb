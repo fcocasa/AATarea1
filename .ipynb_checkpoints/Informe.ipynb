{
 "cells": [
  {
   "cell_type": "markdown",
   "id": "0908e62e",
   "metadata": {},
   "source": [
    "# Informe Grupo 08\n",
    "\n",
    "### Grupo M:\n",
    "     - Martin Borba - C.I...\n",
    "     - Francisco Casarotti - C.I... \n",
    "     - Stefano Graziani - 48938695\n"
   ]
  },
  {
   "cell_type": "markdown",
   "id": "dcad08c2",
   "metadata": {},
   "source": [
    "## 1. Objetivo\n",
    "El objetivo de esta tarea es entrenar un agente que recorra con exito dentro de ciertos mundos generados por MiniGrid.\n"
   ]
  },
  {
   "cell_type": "markdown",
   "id": "d402a3e0",
   "metadata": {},
   "source": [
    "## 2. Diseño\n"
   ]
  },
  {
   "cell_type": "markdown",
   "id": "27652d66",
   "metadata": {},
   "source": [
    "\n",
    "## 2.1 Juego\n",
    "En las versiones del juego utilizadas se cuenta con un agente y una casilla objetivo en un mundo hacia la cual el agente debe de avanzar para ganar el juego. El mundo puede tener elementos como paredes o lava que dificulten el camino hacia el objetivo del juego.\n",
    "\n",
    "El agente tiene vision total del tablero y se mueve por turnos, y en cada turno realiza una de las siguientes acciones: avanzar, girar a la izquierda o girar a la derecha. También se cuenta con un número máximo de movimientos, una vez que se alcanza este límite sin haber completado el objetivo el agente pierde.\n",
    "\n",
    "Existe una version secundaria del juego donde la vision del agente se ve reducida.\n",
    "\n",
    "El éxito del aprendizaje se mide a través del porcentage de victorias en el juego.\n",
    "\n",
    "## 2.2 Tablero\n",
    "Solamente se usaran tableros cuadrados para esta tarea. Se consideraran tres tipos:\n",
    "1. Tablero vacio, donde dentro de los limites del tablero las casillas son vacias a excepcion del objetivo. Se usó una configuracion con posicionamiento aleatorio del agente (MiniGrid-Empty-Random-6x6-v0).\n",
    "2. Tablero de cuatro habitaciones (MiniGrid-FourRooms-v0). En este existen paredes que separan el tablero en habitaciones y dificultan la navegacion. Tanto el agente como el objetivo pueden ser generados en cualquiera de las habitaciones\n",
    "3. Tablero con lava (MiniGrid-LavaGapS7-v0), este presenta una pequeña abertura en una linea vertical de lava la cual el agente debe de encontrar para alcanzar la meta.\n",
    "\n",
    "## 2.3 Algoritmo\n",
    "Se tomarion los siguientes atributos para implementar la valoración de los tableros\n",
    "- dx: Distancia hacia el objetivo en el eje horizontal.\n",
    "- dy: Distancia hacia el objetivo en el eje vertical.\n",
    "- .\n",
    "- .\n",
    "\n",
    "Es mediante estos atributos que se define la siguiente funcion de valoración\n",
    "```python\n",
    "Vop(t) = w0 * dx + w1 * dy ...\n",
    "```\n",
    "\n",
    "A modo de ejemplo, dado el siguiente tablero:\n",
    "{tablero ejemplo}\n",
    "Los valores son los siguientes:\n",
    "{resultado}\n",
    "\n",
    "Los valores de los denominados \"pesos\" `wi` son dados inicialmente, para luego ser ajustados durante el entrenamiento. El entrenamiento es dado por un juego completo representado como una secuencia de tableros donde el primer elemento de la secuencia indica el tablero comienzo de la partida y los siguientes indican los tableros luego de cada movimiento.\n",
    "\n",
    "Al finalizar una partida se recorre la secuencia de tableros de forma inversa. Se inicia con el tablero fin y se establece su valoración. Esta depende de si gano o no, si gano se retorna el valor `reward` (generado por MiniGrid al finalizar la partida, esta entre 0 y 1 e indica que tan eficientemente se resolvio el desafio), en caso contrario se asigna un valor negativo para penalizar (entre -1 y 0, se ajusta sumandole a -1 un factor arbitratio `closeness_reward` dividido por la distancia de taxista hasta el objetivo, a modo de no penalizar bruscamente tableros que estan cerca del objetivo).\n",
    "\n",
    "Luego se continua recorriendo los tableros anteriores asignando un valor \n"
   ]
  },
  {
   "cell_type": "markdown",
   "id": "39b766a5",
   "metadata": {},
   "source": [
    "## 3. Experimentación"
   ]
  },
  {
   "cell_type": "markdown",
   "id": "624c7a01",
   "metadata": {},
   "source": [
    "## 4. Conclusión"
   ]
  },
  {
   "cell_type": "markdown",
   "id": "5e9187ff",
   "metadata": {},
   "source": []
  },
  {
   "cell_type": "code",
   "execution_count": 251,
   "id": "391ddc08",
   "metadata": {},
   "outputs": [],
   "source": [
    "#!/usr/bin/env python3\n",
    "import argparse\n",
    "import gym\n",
    "# This will register the gym_minigrid envs\n",
    "from gym_minigrid import envs, wrappers\n",
    "from gym_minigrid.minigrid import OBJECT_TO_IDX, IDX_TO_OBJECT\n",
    "\n",
    "\n",
    "AGENT_DIR_TO_STR = {0: \">\", 1: \"V\", 2: \"<\", 3: \"^\"}\n",
    "DEFAULT_ENV = 'MiniGrid-FourRooms-v0'#'MiniGrid-SimpleCrossingS9N1-v0'  # 'MiniGrid-FourRooms-v0'"
   ]
  },
  {
   "cell_type": "code",
   "execution_count": 252,
   "id": "86f0f57f",
   "metadata": {},
   "outputs": [],
   "source": [
    "# Let's get the arguments\n",
    "parser = argparse.ArgumentParser()\n",
    "parser.add_argument(\"--env\", type=str, default=DEFAULT_ENV, required=False, help=F\"Name of the environment (default: {DEFAULT_ENV})\")\n",
    "args = parser.parse_args(args=[])"
   ]
  },
  {
   "cell_type": "code",
   "execution_count": 253,
   "id": "1b3c0893",
   "metadata": {},
   "outputs": [
    {
     "name": "stdout",
     "output_type": "stream",
     "text": [
      "\n",
      "Running over MiniGrid-FourRooms-v0\n"
     ]
    },
    {
     "data": {
      "text/plain": [
       "'\\nwrappers.SymbolicObsWrapper:\\n    Fully observable grid with a symbolic state representation.\\n    The symbol is a triple of (X, Y, IDX), where X and Y are\\n    the coordinates on the grid, and IDX is the id of the object.\\n'"
      ]
     },
     "execution_count": 253,
     "metadata": {},
     "output_type": "execute_result"
    }
   ],
   "source": [
    "# Just play around to show what we can do\n",
    "print(f\"\\nRunning over {args.env}\")\n",
    "environment = gym.make(args.env, render_mode=\"human\") #creo el enviormente\n",
    "environment = wrappers.SymbolicObsWrapper(environment)\n",
    "\"\"\"\n",
    "wrappers.SymbolicObsWrapper:\n",
    "    Fully observable grid with a symbolic state representation.\n",
    "    The symbol is a triple of (X, Y, IDX), where X and Y are\n",
    "    the coordinates on the grid, and IDX is the id of the object.\n",
    "\"\"\"\n"
   ]
  },
  {
   "cell_type": "code",
   "execution_count": 254,
   "id": "9751c350",
   "metadata": {},
   "outputs": [
    {
     "name": "stdout",
     "output_type": "stream",
     "text": [
      "\n",
      "\n",
      "Environment loaded\n",
      "This is our world:\n",
      "\n",
      "[[[ 0  0  2]\n",
      "  [ 0  1  2]\n",
      "  [ 0  2  2]\n",
      "  ...\n",
      "  [ 0 16  2]\n",
      "  [ 0 17  2]\n",
      "  [ 0 18  2]]\n",
      "\n",
      " [[ 1  0  2]\n",
      "  [ 1  1 -1]\n",
      "  [ 1  2 -1]\n",
      "  ...\n",
      "  [ 1 16 -1]\n",
      "  [ 1 17 -1]\n",
      "  [ 1 18  2]]\n",
      "\n",
      " [[ 2  0  2]\n",
      "  [ 2  1 -1]\n",
      "  [ 2  2 -1]\n",
      "  ...\n",
      "  [ 2 16 -1]\n",
      "  [ 2 17 -1]\n",
      "  [ 2 18  2]]\n",
      "\n",
      " ...\n",
      "\n",
      " [[16  0  2]\n",
      "  [16  1 -1]\n",
      "  [16  2 -1]\n",
      "  ...\n",
      "  [16 16 -1]\n",
      "  [16 17 -1]\n",
      "  [16 18  2]]\n",
      "\n",
      " [[17  0  2]\n",
      "  [17  1 -1]\n",
      "  [17  2 -1]\n",
      "  ...\n",
      "  [17 16 -1]\n",
      "  [17 17 -1]\n",
      "  [17 18  2]]\n",
      "\n",
      " [[18  0  2]\n",
      "  [18  1  2]\n",
      "  [18  2  2]\n",
      "  ...\n",
      "  [18 16  2]\n",
      "  [18 17  2]\n",
      "  [18 18  2]]]\n"
     ]
    }
   ],
   "source": [
    "obs = environment.reset()\n",
    "print(\"\\n\\nEnvironment loaded\")\n",
    "print(\"This is our world:\\n\")\n",
    "print(obs['image'])"
   ]
  },
  {
   "cell_type": "code",
   "execution_count": 255,
   "id": "7e72afd5",
   "metadata": {},
   "outputs": [
    {
     "name": "stdout",
     "output_type": "stream",
     "text": [
      "\n",
      "This is a list of rows (X is constant). Each row is a list of cells. Each cell has three components.\n",
      "First and second components are X-axis and Y-axis coordinates (column, row), but inverted. Third component is what there is in the cell (value -1 equals nothing):\n",
      "\n",
      "\tunseen: 0\n",
      "\tempty: 1\n",
      "\twall: 2\n",
      "\tfloor: 3\n",
      "\tdoor: 4\n",
      "\tkey: 5\n",
      "\tball: 6\n",
      "\tbox: 7\n",
      "\tgoal: 8\n",
      "\tlava: 9\n",
      "\tagent: 10\n"
     ]
    }
   ],
   "source": [
    "print(\"\\nThis is a list of rows (X is constant). Each row is a list of cells. Each cell has three components.\")\n",
    "print(\"First and second components are X-axis and Y-axis coordinates (column, row), but inverted. Third component is what there is in the cell (value -1 equals nothing):\\n\")\n",
    "for object, idx in OBJECT_TO_IDX.items():\n",
    "    print(f\"\\t{object}: {idx}\")"
   ]
  },
  {
   "cell_type": "code",
   "execution_count": 256,
   "id": "956c967c",
   "metadata": {},
   "outputs": [
    {
     "name": "stdout",
     "output_type": "stream",
     "text": [
      "\n",
      "The agent is now in (4, 13).\n"
     ]
    }
   ],
   "source": [
    "# Check cells (y conseguir la pos del agente)\n",
    "agent_pos = environment.agent_pos\n",
    "print(f\"\\nThe agent is now in {agent_pos[0], agent_pos[1]}.\")"
   ]
  },
  {
   "cell_type": "code",
   "execution_count": 257,
   "id": "f5236768",
   "metadata": {},
   "outputs": [],
   "source": [
    "def print_world(image, agent_dir, agent_pos):\n",
    "    for y_axis in image:\n",
    "        print(\"\\n\\t\")\n",
    "        for cell in y_axis:\n",
    "            cell_render = AGENT_DIR_TO_STR[agent_dir] if (cell[1] == agent_pos[0] and cell[0] == agent_pos[1]) \\\n",
    "                else IDX_TO_OBJECT[cell[2]][0].upper() if cell[2] > -1 else '_'\n",
    "            print(cell_render, end='   ')"
   ]
  },
  {
   "cell_type": "code",
   "execution_count": 258,
   "id": "f464d9a2",
   "metadata": {},
   "outputs": [],
   "source": [
    "def print_invert_world(world_dic, agent_dir, agent_pos):\n",
    "    l = len(world_dic)\n",
    "    for j in range (l):\n",
    "        print(\"\\n\\t\")\n",
    "        for i in range(l):\n",
    "            if (i == agent_pos[0] and j == agent_pos[1]):\n",
    "                cell_render = AGENT_DIR_TO_STR[agent_dir]\n",
    "            elif world_dic[i][j] > -1:\n",
    "                cell_render = IDX_TO_OBJECT[world_dic[i][j]][0].upper()\n",
    "            else:\n",
    "                cell_render = '_'\n",
    "            print(cell_render, end='   ')"
   ]
  },
  {
   "cell_type": "code",
   "execution_count": 259,
   "id": "09eadc97",
   "metadata": {},
   "outputs": [],
   "source": [
    "def invert_world(matrix):\n",
    "    \n",
    "    new_world={}\n",
    "    l = len(matrix)\n",
    "    \n",
    "    for i in range(l):\n",
    "        new_world[i]={}\n",
    "        for j in range(l):\n",
    "            new_world[i][j] = {}\n",
    "            \n",
    "    for i in range(l):\n",
    "        for j in range(l):\n",
    "            new_world[j][i] = matrix[i][j][2]\n",
    "            \n",
    "    return new_world"
   ]
  },
  {
   "cell_type": "code",
   "execution_count": 288,
   "id": "15e3ae11",
   "metadata": {},
   "outputs": [
    {
     "name": "stdout",
     "output_type": "stream",
     "text": [
      "\n",
      "So this is our pretty version of our world: \n",
      "\n",
      "\t\n",
      "W   W   W   W   W   W   W   W   W   W   W   W   W   W   W   W   W   W   W   \n",
      "\t\n",
      "W   _   _   _   _   _   _   _   _   W   _   _   _   _   _   _   _   _   W   \n",
      "\t\n",
      "W   _   _   _   _   _   _   _   _   W   _   _   _   _   _   _   _   _   W   \n",
      "\t\n",
      "W   _   _   _   _   _   _   G   _   W   _   _   _   _   _   _   _   _   W   \n",
      "\t\n",
      "W   _   _   _   _   _   _   _   _   _   _   _   _   _   _   _   _   _   W   \n",
      "\t\n",
      "W   _   _   _   _   _   _   _   _   W   _   _   _   _   _   _   _   _   W   \n",
      "\t\n",
      "W   _   _   _   _   _   _   _   _   W   _   _   _   _   _   _   _   _   W   \n",
      "\t\n",
      "W   _   _   _   _   _   _   _   _   W   _   _   _   _   _   _   _   _   W   \n",
      "\t\n",
      "W   _   _   _   _   _   _   _   _   W   _   _   _   _   _   _   _   _   W   \n",
      "\t\n",
      "W   W   W   W   _   W   W   W   W   W   W   _   W   W   W   W   W   W   W   \n",
      "\t\n",
      "W   _   _   _   _   _   _   _   _   W   _   _   _   _   _   _   _   _   W   \n",
      "\t\n",
      "W   _   _   _   _   _   _   _   _   W   _   _   _   _   _   _   _   _   W   \n",
      "\t\n",
      "W   _   _   _   _   _   _   _   _   W   _   _   _   _   _   _   _   _   W   \n",
      "\t\n",
      "W   _   _   _   V   _   _   _   _   _   _   _   _   _   _   _   _   _   W   \n",
      "\t\n",
      "W   _   _   _   _   _   _   _   _   W   _   _   _   _   _   _   _   _   W   \n",
      "\t\n",
      "W   _   _   _   _   _   _   _   _   W   _   _   _   _   _   _   _   _   W   \n",
      "\t\n",
      "W   _   _   _   _   _   _   _   _   W   _   _   _   _   _   _   _   _   W   \n",
      "\t\n",
      "W   _   _   _   _   _   _   _   _   W   _   _   _   _   _   _   _   _   W   \n",
      "\t\n",
      "W   W   W   W   W   W   W   W   W   W   W   W   W   W   W   W   W   W   W   "
     ]
    }
   ],
   "source": [
    "#So the world looks like\n",
    "print(\"\\nSo this is our pretty version of our world: \")\n",
    "print_invert_world(invert_world(obs['image']), environment.agent_dir, agent_pos)"
   ]
  },
  {
   "cell_type": "code",
   "execution_count": 290,
   "id": "ccd172c6",
   "metadata": {},
   "outputs": [
    {
     "name": "stdout",
     "output_type": "stream",
     "text": [
      "\n",
      "So this is our pretty version of our world: \n",
      "\n",
      "\t\n",
      "W   W   W   W   W   W   W   W   W   W   W   W   W   W   W   W   W   W   W   \n",
      "\t\n",
      "W   _   _   _   _   _   _   _   _   W   _   _   _   _   _   _   _   _   W   \n",
      "\t\n",
      "W   _   _   _   _   _   _   _   _   W   _   _   _   _   _   _   _   _   W   \n",
      "\t\n",
      "W   _   _   _   _   _   _   G   _   W   _   _   _   _   _   _   _   _   W   \n",
      "\t\n",
      "W   _   _   _   _   _   _   _   _   _   _   _   _   _   _   _   _   _   W   \n",
      "\t\n",
      "W   _   _   _   _   _   _   _   _   W   _   _   _   _   _   _   _   _   W   \n",
      "\t\n",
      "W   _   _   _   _   _   _   _   _   W   _   _   _   _   _   _   _   _   W   \n",
      "\t\n",
      "W   _   _   _   _   _   _   _   _   W   _   _   _   _   _   _   _   _   W   \n",
      "\t\n",
      "W   _   _   _   _   _   _   _   _   W   _   _   _   _   _   _   _   _   W   \n",
      "\t\n",
      "W   W   W   W   _   W   W   W   W   W   W   _   W   W   W   W   W   W   W   \n",
      "\t\n",
      "W   _   _   _   _   _   _   _   _   W   _   _   _   _   _   _   _   _   W   \n",
      "\t\n",
      "W   _   _   _   _   _   _   _   _   W   _   _   _   _   _   _   _   _   W   \n",
      "\t\n",
      "W   _   _   _   _   _   _   _   _   W   _   _   _   _   _   _   _   _   W   \n",
      "\t\n",
      "W   _   _   _   V   _   _   _   _   _   _   _   _   _   _   _   _   _   W   \n",
      "\t\n",
      "W   _   _   _   _   _   _   _   _   W   _   _   _   _   _   _   _   _   W   \n",
      "\t\n",
      "W   _   _   _   _   _   _   _   _   W   _   _   _   _   _   _   _   _   W   \n",
      "\t\n",
      "W   _   _   _   _   _   _   _   _   W   _   _   _   _   _   _   _   _   W   \n",
      "\t\n",
      "W   _   _   _   _   _   _   _   _   W   _   _   _   _   _   _   _   _   W   \n",
      "\t\n",
      "W   W   W   W   W   W   W   W   W   W   W   W   W   W   W   W   W   W   W   "
     ]
    }
   ],
   "source": [
    "#So the world looks like\n",
    "print(\"\\nSo this is our pretty version of our world: \")\n",
    "print_world(obs['image'], environment.agent_dir, agent_pos)"
   ]
  },
  {
   "cell_type": "code",
   "execution_count": 262,
   "id": "1c605235",
   "metadata": {},
   "outputs": [],
   "source": [
    "\"\"\"def find_wall(pos_ini,pos_fin,vec):\n",
    "    if pos_ini < pos_fin:\n",
    "        while pos_ini<pos_fin:\n",
    "            if vec[pos_ini] == 2:\n",
    "                wall.append(pos_fin-pos_ini)\n",
    "                break;\n",
    "            else:\n",
    "                i+=1\n",
    "    else:       \n",
    "        while pos_ini>pos_fin:\n",
    "            if vec[pos_ini] == 2:\n",
    "                wall.append(pos_ini-pos_fin)\n",
    "                break;\n",
    "            else:\n",
    "                pos_ini-=1\n",
    "                \"\"\""
   ]
  },
  {
   "cell_type": "code",
   "execution_count": 266,
   "id": "9e61b0c2",
   "metadata": {},
   "outputs": [],
   "source": [
    "def walls_axis(agent_pos_x,agent_pos_y,world):#[wall_east,wall_south,wall_west,wall_north]\n",
    "    l = len(world)\n",
    "    wall = []\n",
    "        \n",
    "    for i in range(agent_pos_x,l):\n",
    "        if world[i][agent_pos_y] == 2:\n",
    "            wall.append(i-agent_pos_x)\n",
    "            break;\n",
    "    for j in range(agent_pos_y,l):\n",
    "        if world[agent_pos_x][j] == 2:\n",
    "            wall.append(j-agent_pos_y)\n",
    "            break;\n",
    "         \n",
    "    for i in range(agent_pos_x,-1,-1):\n",
    "        if world[i][agent_pos_y] == 2:\n",
    "            wall.append(agent_pos_x-i)\n",
    "            break;\n",
    "            \n",
    "    for j in range(agent_pos_y,-1,-1):\n",
    "        if world[agent_pos_x][j] == 2:\n",
    "            wall.append(agent_pos_y-j)\n",
    "            break;\n",
    "               \n",
    "    return wall\n",
    "            "
   ]
  },
  {
   "cell_type": "code",
   "execution_count": 269,
   "id": "da7f171d",
   "metadata": {},
   "outputs": [],
   "source": [
    "#calcula la distancia a cada parede segun su sentido de la orietacion\n",
    "def walls(agent_pos_x,agent_pos_y,world): #world -> obs['image'] invertido\n",
    "    walls = walls_axis(agent_pos_x,agent_pos_y,world)\n",
    "    ad = environment.agent_dir\n",
    "    wall_dirs = []\n",
    "    for i in range(ad,ad+4):\n",
    "        wall_dirs.append(walls[i%4])\n",
    "    print(walls)#(este, sur, oeste, norte)\n",
    "    print(wall_dirs)#(frente,derecha,atras,izquierda)"
   ]
  },
  {
   "cell_type": "code",
   "execution_count": 270,
   "id": "cf74b5a1",
   "metadata": {},
   "outputs": [
    {
     "name": "stdout",
     "output_type": "stream",
     "text": [
      "[14, 5, 4, 13]\n",
      "[4, 13, 14, 5]\n"
     ]
    }
   ],
   "source": [
    "walls(agent_pos[0],agent_pos[1],invert_world(obs['image']))"
   ]
  },
  {
   "cell_type": "code",
   "execution_count": 284,
   "id": "38110215",
   "metadata": {},
   "outputs": [
    {
     "data": {
      "text/plain": [
       "({'image': array([[[ 0,  0,  2],\n",
       "          [ 0,  1,  2],\n",
       "          [ 0,  2,  2],\n",
       "          ...,\n",
       "          [ 0, 16,  2],\n",
       "          [ 0, 17,  2],\n",
       "          [ 0, 18,  2]],\n",
       "  \n",
       "         [[ 1,  0,  2],\n",
       "          [ 1,  1, -1],\n",
       "          [ 1,  2, -1],\n",
       "          ...,\n",
       "          [ 1, 16, -1],\n",
       "          [ 1, 17, -1],\n",
       "          [ 1, 18,  2]],\n",
       "  \n",
       "         [[ 2,  0,  2],\n",
       "          [ 2,  1, -1],\n",
       "          [ 2,  2, -1],\n",
       "          ...,\n",
       "          [ 2, 16, -1],\n",
       "          [ 2, 17, -1],\n",
       "          [ 2, 18,  2]],\n",
       "  \n",
       "         ...,\n",
       "  \n",
       "         [[16,  0,  2],\n",
       "          [16,  1, -1],\n",
       "          [16,  2, -1],\n",
       "          ...,\n",
       "          [16, 16, -1],\n",
       "          [16, 17, -1],\n",
       "          [16, 18,  2]],\n",
       "  \n",
       "         [[17,  0,  2],\n",
       "          [17,  1, -1],\n",
       "          [17,  2, -1],\n",
       "          ...,\n",
       "          [17, 16, -1],\n",
       "          [17, 17, -1],\n",
       "          [17, 18,  2]],\n",
       "  \n",
       "         [[18,  0,  2],\n",
       "          [18,  1,  2],\n",
       "          [18,  2,  2],\n",
       "          ...,\n",
       "          [18, 16,  2],\n",
       "          [18, 17,  2],\n",
       "          [18, 18,  2]]]),\n",
       "  'direction': 1,\n",
       "  'mission': 'reach the goal'},\n",
       " 0,\n",
       " False,\n",
       " {})"
      ]
     },
     "execution_count": 284,
     "metadata": {},
     "output_type": "execute_result"
    }
   ],
   "source": [
    "environment.step(environment.actions.right)\n",
    "environment.step(environment.actions.right)\n",
    "\n"
   ]
  },
  {
   "cell_type": "code",
   "execution_count": 291,
   "id": "f4f82ec6",
   "metadata": {},
   "outputs": [],
   "source": [
    "\n",
    "n_obs, reward, done, _ = environment.step(environment.actions.forward)"
   ]
  },
  {
   "cell_type": "code",
   "execution_count": 294,
   "id": "7066470f",
   "metadata": {},
   "outputs": [
    {
     "name": "stdout",
     "output_type": "stream",
     "text": [
      "False\n"
     ]
    }
   ],
   "source": [
    "print(done)"
   ]
  },
  {
   "cell_type": "code",
   "execution_count": null,
   "id": "d2cf15ce",
   "metadata": {},
   "outputs": [],
   "source": []
  }
 ],
 "metadata": {
  "kernelspec": {
   "display_name": "Python 3.8.10 64-bit",
   "language": "python",
   "name": "python3"
  },
  "language_info": {
   "codemirror_mode": {
    "name": "ipython",
    "version": 3
   },
   "file_extension": ".py",
   "mimetype": "text/x-python",
   "name": "python",
   "nbconvert_exporter": "python",
   "pygments_lexer": "ipython3",
   "version": "3.8.10"
  },
  "vscode": {
   "interpreter": {
    "hash": "916dbcbb3f70747c44a77c7bcd40155683ae19c65e1c03b4aa3499c5328201f1"
   }
  }
 },
 "nbformat": 4,
 "nbformat_minor": 5
}
