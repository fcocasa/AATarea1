{
 "cells": [
  {
   "cell_type": "code",
   "execution_count": 62,
   "id": "391ddc08",
   "metadata": {},
   "outputs": [],
   "source": [
    "#!/usr/bin/env python3\n",
    "import argparse\n",
    "import gym\n",
    "# This will register the gym_minigrid envs\n",
    "from gym_minigrid import envs, wrappers\n",
    "from gym_minigrid.minigrid import OBJECT_TO_IDX, IDX_TO_OBJECT\n",
    "\n",
    "\n",
    "AGENT_DIR_TO_STR = {0: \">\", 1: \"V\", 2: \"<\", 3: \"^\"}\n",
    "DEFAULT_ENV = 'MiniGrid-SimpleCrossingS9N1-v0'#'MiniGrid-SimpleCrossingS9N1-v0'  # 'MiniGrid-FourRooms-v0'"
   ]
  },
  {
   "cell_type": "code",
   "execution_count": 63,
   "id": "86f0f57f",
   "metadata": {},
   "outputs": [],
   "source": [
    "# Let's get the arguments\n",
    "parser = argparse.ArgumentParser()\n",
    "parser.add_argument(\"--env\", type=str, default=DEFAULT_ENV, required=False, help=F\"Name of the environment (default: {DEFAULT_ENV})\")\n",
    "args = parser.parse_args(args=[])"
   ]
  },
  {
   "cell_type": "code",
   "execution_count": 64,
   "id": "1b3c0893",
   "metadata": {},
   "outputs": [
    {
     "name": "stdout",
     "output_type": "stream",
     "text": [
      "\n",
      "Running over MiniGrid-SimpleCrossingS9N1-v0\n"
     ]
    },
    {
     "name": "stderr",
     "output_type": "stream",
     "text": [
      "/Users/mborba/.local/share/virtualenvs/AATarea1-A8crnK2f/lib/python3.8/site-packages/gym/core.py:329: DeprecationWarning: \u001b[33mWARN: Initializing wrapper in old step API which returns one bool instead of two. It is recommended to set `new_step_api=True` to use new step API. This will be the default behaviour in future.\u001b[0m\n",
      "  deprecation(\n",
      "/Users/mborba/.local/share/virtualenvs/AATarea1-A8crnK2f/lib/python3.8/site-packages/gym/wrappers/step_api_compatibility.py:39: DeprecationWarning: \u001b[33mWARN: Initializing environment in old step API which returns one bool instead of two. It is recommended to set `new_step_api=True` to use new step API. This will be the default behaviour in future.\u001b[0m\n",
      "  deprecation(\n"
     ]
    },
    {
     "data": {
      "text/plain": [
       "'\\nwrappers.SymbolicObsWrapper:\\n    Fully observable grid with a symbolic state representation.\\n    The symbol is a triple of (X, Y, IDX), where X and Y are\\n    the coordinates on the grid, and IDX is the id of the object.\\n'"
      ]
     },
     "execution_count": 64,
     "metadata": {},
     "output_type": "execute_result"
    }
   ],
   "source": [
    "# Just play around to show what we can do\n",
    "print(f\"\\nRunning over {args.env}\")\n",
    "environment = gym.make(args.env, render_mode=\"human\") #creo el enviormente\n",
    "environment = wrappers.SymbolicObsWrapper(environment)\n",
    "\"\"\"\n",
    "wrappers.SymbolicObsWrapper:\n",
    "    Fully observable grid with a symbolic state representation.\n",
    "    The symbol is a triple of (X, Y, IDX), where X and Y are\n",
    "    the coordinates on the grid, and IDX is the id of the object.\n",
    "\"\"\"\n"
   ]
  },
  {
   "cell_type": "code",
   "execution_count": 65,
   "id": "9751c350",
   "metadata": {},
   "outputs": [
    {
     "name": "stdout",
     "output_type": "stream",
     "text": [
      "\n",
      "\n",
      "Environment loaded\n",
      "This is our world:\n",
      "\n",
      "[[[ 0  0  2]\n",
      "  [ 0  1  2]\n",
      "  [ 0  2  2]\n",
      "  [ 0  3  2]\n",
      "  [ 0  4  2]\n",
      "  [ 0  5  2]\n",
      "  [ 0  6  2]\n",
      "  [ 0  7  2]\n",
      "  [ 0  8  2]]\n",
      "\n",
      " [[ 1  0  2]\n",
      "  [ 1  1 -1]\n",
      "  [ 1  2 -1]\n",
      "  [ 1  3 -1]\n",
      "  [ 1  4 -1]\n",
      "  [ 1  5 -1]\n",
      "  [ 1  6  2]\n",
      "  [ 1  7 -1]\n",
      "  [ 1  8  2]]\n",
      "\n",
      " [[ 2  0  2]\n",
      "  [ 2  1 -1]\n",
      "  [ 2  2 -1]\n",
      "  [ 2  3 -1]\n",
      "  [ 2  4 -1]\n",
      "  [ 2  5 -1]\n",
      "  [ 2  6 -1]\n",
      "  [ 2  7 -1]\n",
      "  [ 2  8  2]]\n",
      "\n",
      " [[ 3  0  2]\n",
      "  [ 3  1 -1]\n",
      "  [ 3  2 -1]\n",
      "  [ 3  3 -1]\n",
      "  [ 3  4 -1]\n",
      "  [ 3  5 -1]\n",
      "  [ 3  6  2]\n",
      "  [ 3  7 -1]\n",
      "  [ 3  8  2]]\n",
      "\n",
      " [[ 4  0  2]\n",
      "  [ 4  1 -1]\n",
      "  [ 4  2 -1]\n",
      "  [ 4  3 -1]\n",
      "  [ 4  4 -1]\n",
      "  [ 4  5 -1]\n",
      "  [ 4  6  2]\n",
      "  [ 4  7 -1]\n",
      "  [ 4  8  2]]\n",
      "\n",
      " [[ 5  0  2]\n",
      "  [ 5  1 -1]\n",
      "  [ 5  2 -1]\n",
      "  [ 5  3 -1]\n",
      "  [ 5  4 -1]\n",
      "  [ 5  5 -1]\n",
      "  [ 5  6  2]\n",
      "  [ 5  7 -1]\n",
      "  [ 5  8  2]]\n",
      "\n",
      " [[ 6  0  2]\n",
      "  [ 6  1 -1]\n",
      "  [ 6  2 -1]\n",
      "  [ 6  3 -1]\n",
      "  [ 6  4 -1]\n",
      "  [ 6  5 -1]\n",
      "  [ 6  6  2]\n",
      "  [ 6  7 -1]\n",
      "  [ 6  8  2]]\n",
      "\n",
      " [[ 7  0  2]\n",
      "  [ 7  1 -1]\n",
      "  [ 7  2 -1]\n",
      "  [ 7  3 -1]\n",
      "  [ 7  4 -1]\n",
      "  [ 7  5 -1]\n",
      "  [ 7  6  2]\n",
      "  [ 7  7  8]\n",
      "  [ 7  8  2]]\n",
      "\n",
      " [[ 8  0  2]\n",
      "  [ 8  1  2]\n",
      "  [ 8  2  2]\n",
      "  [ 8  3  2]\n",
      "  [ 8  4  2]\n",
      "  [ 8  5  2]\n",
      "  [ 8  6  2]\n",
      "  [ 8  7  2]\n",
      "  [ 8  8  2]]]\n"
     ]
    }
   ],
   "source": [
    "obs = environment.reset()\n",
    "print(\"\\n\\nEnvironment loaded\")\n",
    "print(\"This is our world:\\n\")\n",
    "print(obs['image'])"
   ]
  },
  {
   "cell_type": "code",
   "execution_count": 66,
   "id": "7e72afd5",
   "metadata": {},
   "outputs": [
    {
     "name": "stdout",
     "output_type": "stream",
     "text": [
      "\n",
      "This is a list of rows (X is constant). Each row is a list of cells. Each cell has three components.\n",
      "First and second components are X-axis and Y-axis coordinates (column, row), but inverted. Third component is what there is in the cell (value -1 equals nothing):\n",
      "\n",
      "\tunseen: 0\n",
      "\tempty: 1\n",
      "\twall: 2\n",
      "\tfloor: 3\n",
      "\tdoor: 4\n",
      "\tkey: 5\n",
      "\tball: 6\n",
      "\tbox: 7\n",
      "\tgoal: 8\n",
      "\tlava: 9\n",
      "\tagent: 10\n"
     ]
    }
   ],
   "source": [
    "print(\"\\nThis is a list of rows (X is constant). Each row is a list of cells. Each cell has three components.\")\n",
    "print(\"First and second components are X-axis and Y-axis coordinates (column, row), but inverted. Third component is what there is in the cell (value -1 equals nothing):\\n\")\n",
    "for object, idx in OBJECT_TO_IDX.items():\n",
    "    print(f\"\\t{object}: {idx}\")"
   ]
  },
  {
   "cell_type": "code",
   "execution_count": 93,
   "id": "956c967c",
   "metadata": {},
   "outputs": [
    {
     "name": "stdout",
     "output_type": "stream",
     "text": [
      "\n",
      "The agent is now in (2, 3).\n"
     ]
    }
   ],
   "source": [
    "# Check cells (y conseguir la pos del agente)\n",
    "print(\n",
    "    f\"\\nThe agent is now in {environment.agent_pos[0], environment.agent_pos[1]}.\")\n"
   ]
  },
  {
   "cell_type": "code",
   "execution_count": 68,
   "id": "f5236768",
   "metadata": {},
   "outputs": [],
   "source": [
    "def print_world(image, agent_dir, agent_pos):\n",
    "    for y_axis in image:\n",
    "        print(\"\\n\\t\")\n",
    "        for cell in y_axis:\n",
    "            cell_render = AGENT_DIR_TO_STR[agent_dir] if (cell[1] == agent_pos[0] and cell[0] == agent_pos[1]) \\\n",
    "                else IDX_TO_OBJECT[cell[2]][0].upper() if cell[2] > -1 else '_'\n",
    "            print(cell_render, end='   ')"
   ]
  },
  {
   "cell_type": "code",
   "execution_count": 150,
   "id": "15e3ae11",
   "metadata": {},
   "outputs": [
    {
     "name": "stdout",
     "output_type": "stream",
     "text": [
      "\n",
      "So this is our pretty version of our world: \n",
      "\n",
      "\t\n",
      "W   W   W   W   W   W   W   W   W   \n",
      "\t\n",
      "W   ^   _   _   _   _   W   _   W   \n",
      "\t\n",
      "W   _   _   _   _   _   _   _   W   \n",
      "\t\n",
      "W   _   _   _   _   _   W   _   W   \n",
      "\t\n",
      "W   _   _   _   _   _   W   _   W   \n",
      "\t\n",
      "W   _   _   _   _   _   W   _   W   \n",
      "\t\n",
      "W   _   _   _   _   _   W   _   W   \n",
      "\t\n",
      "W   _   _   _   _   _   W   G   W   \n",
      "\t\n",
      "W   W   W   W   W   W   W   W   W   "
     ]
    }
   ],
   "source": [
    "#So the world looks like\n",
    "print(\"\\nSo this is our pretty version of our world: \")\n",
    "print_invert_world(invert_world(obs['image']), environment.agent_dir, agent_pos)"
   ]
  },
  {
   "cell_type": "code",
   "execution_count": 170,
   "id": "ccd172c6",
   "metadata": {},
   "outputs": [
    {
     "name": "stdout",
     "output_type": "stream",
     "text": [
      "\n",
      "So this is our pretty version of our world: \n",
      "\n",
      "\t\n",
      "W   W   W   W   W   W   W   W   W   \n",
      "\t\n",
      "W   _   _   _   _   _   W   _   W   \n",
      "\t\n",
      "W   _   _   _   _   _   _   _   W   \n",
      "\t\n",
      "W   _   _   _   _   _   W   _   W   \n",
      "\t\n",
      "W   _   _   _   _   _   W   _   W   \n",
      "\t\n",
      "W   _   _   _   _   _   W   _   W   \n",
      "\t\n",
      "W   _   _   _   _   _   W   V   W   \n",
      "\t\n",
      "W   _   _   _   _   _   W   G   W   \n",
      "\t\n",
      "W   W   W   W   W   W   W   W   W   "
     ]
    }
   ],
   "source": [
    "#So the world looks like\n",
    "print(\"\\nSo this is our pretty version of our world: \")\n",
    "print_world(obs['image'], environment.agent_dir, environment.agent_pos)\n",
    "\n"
   ]
  },
  {
   "cell_type": "code",
   "execution_count": 71,
   "id": "1c605235",
   "metadata": {},
   "outputs": [
    {
     "data": {
      "text/plain": [
       "'def find_wall(pos_ini,pos_fin,vec):\\n    if pos_ini < pos_fin:\\n        while pos_ini<pos_fin:\\n            if vec[pos_ini] == 2:\\n                wall.append(pos_fin-pos_ini)\\n                break;\\n            else:\\n                i+=1\\n    else:       \\n        while pos_ini>pos_fin:\\n            if vec[pos_ini] == 2:\\n                wall.append(pos_ini-pos_fin)\\n                break;\\n            else:\\n                pos_ini-=1\\n                '"
      ]
     },
     "execution_count": 71,
     "metadata": {},
     "output_type": "execute_result"
    }
   ],
   "source": [
    "\"\"\"def find_wall(pos_ini,pos_fin,vec):\n",
    "    if pos_ini < pos_fin:\n",
    "        while pos_ini<pos_fin:\n",
    "            if vec[pos_ini] == 2:\n",
    "                wall.append(pos_fin-pos_ini)\n",
    "                break;\n",
    "            else:\n",
    "                i+=1\n",
    "    else:       \n",
    "        while pos_ini>pos_fin:\n",
    "            if vec[pos_ini] == 2:\n",
    "                wall.append(pos_ini-pos_fin)\n",
    "                break;\n",
    "            else:\n",
    "                pos_ini-=1\n",
    "                \"\"\""
   ]
  },
  {
   "cell_type": "code",
   "execution_count": 72,
   "id": "bd7574c8",
   "metadata": {},
   "outputs": [],
   "source": [
    "def matrix_value(i, j, matrix):\n",
    "    return matrix[j][i][2]\n"
   ]
  },
  {
   "cell_type": "code",
   "execution_count": 96,
   "id": "56b0b037",
   "metadata": {},
   "outputs": [],
   "source": [
    "def goal_distance(agent_pos_x, agent_pos_y, world):\n",
    "    l = len(world)\n",
    "    for i in range(0, l):\n",
    "        for j in range(0, l):\n",
    "            if matrix_value(i, j, world) == 8:\n",
    "                return [abs(i-agent_pos_x), abs(j-agent_pos_y)]"
   ]
  },
  {
   "cell_type": "code",
   "execution_count": 74,
   "id": "56349034",
   "metadata": {},
   "outputs": [],
   "source": [
    "# [wall_east,wall_south,wall_west,wall_north] -------------- NOT INVERTED !\n",
    "def walls_axis(agent_pos_x, agent_pos_y, world):\n",
    "    l = len(world)\n",
    "    wall = []\n",
    "    curiosity = 3\n",
    "    for i in range(agent_pos_x, l):\n",
    "        if matrix_value(i, agent_pos_y, world) == 2 or matrix_value(i, agent_pos_y, world) == 9:  # wall or lava\n",
    "            wall.append(i-agent_pos_x)\n",
    "            break\n",
    "        elif matrix_value(i, agent_pos_y, world) == 0:  # unseen # TODO: check var curiosity\n",
    "            wall.append(i-agent_pos_x + curiosity)\n",
    "            break\n",
    "    for j in range(agent_pos_y, l):\n",
    "        if matrix_value(agent_pos_x, j, world) == 2 or matrix_value(i, agent_pos_y, world) == 9:  # wall or lava\n",
    "            wall.append(j-agent_pos_y)\n",
    "            break\n",
    "        elif matrix_value(agent_pos_x, j, world) == 0:  # unseen\n",
    "            wall.append(j-agent_pos_y + curiosity)\n",
    "            break\n",
    "\n",
    "    for i in range(agent_pos_x, -1, -1):\n",
    "        if matrix_value(i, agent_pos_y, world) == 2 or matrix_value(i, agent_pos_y, world) == 9:  # wall or lava\n",
    "            wall.append(agent_pos_x-i)\n",
    "            break\n",
    "        elif matrix_value(i, agent_pos_y, world) == 0:  # unseen\n",
    "            wall.append(agent_pos_x-i + curiosity)\n",
    "            break\n",
    "\n",
    "    for j in range(agent_pos_y, -1, -1):\n",
    "        if matrix_value(agent_pos_x, j, world) == 2 or matrix_value(agent_pos_x, j, world) == 9:  # wall or lava\n",
    "            wall.append(agent_pos_y-j)\n",
    "            break\n",
    "        elif matrix_value(agent_pos_x, j, world) == 0:  # unseen\n",
    "            wall.append(agent_pos_y-j + curiosity)\n",
    "            break\n",
    "\n",
    "    return wall\n"
   ]
  },
  {
   "cell_type": "code",
   "execution_count": 75,
   "id": "da7f171d",
   "metadata": {},
   "outputs": [],
   "source": [
    "#calcula la distancia a cada parede segun su sentido de la orietacion\n",
    "def walls(agent_pos_x,agent_pos_y,world): #world -> obs['image'] invertido\n",
    "    walls = walls_axis(agent_pos_x,agent_pos_y,world)\n",
    "    ad = environment.agent_dir\n",
    "    wall_dirs = []\n",
    "    for i in range(ad,ad+4):\n",
    "        wall_dirs.append(walls[i%4])\n",
    "    # print(walls)#(este, sur, oeste, norte)\n",
    "    return wall_dirs #(frente,derecha,atras,izquierda)"
   ]
  },
  {
   "cell_type": "code",
   "execution_count": 149,
   "id": "cf74b5a1",
   "metadata": {},
   "outputs": [
    {
     "name": "stdout",
     "output_type": "stream",
     "text": [
      "walls distance frbl  [5, 1, 3, 1]\n",
      "goal distance  [0, 2]\n"
     ]
    }
   ],
   "source": [
    "print('walls distance frbl ', walls(\n",
    "    environment.agent_pos[0], environment.agent_pos[1], obs['image']))\n",
    "print('goal distance ', goal_distance(\n",
    "    environment.agent_pos[0], environment.agent_pos[1], obs['image']))\n"
   ]
  },
  {
   "cell_type": "code",
   "execution_count": 169,
   "id": "38110215",
   "metadata": {},
   "outputs": [
    {
     "data": {
      "text/plain": [
       "({'image': array([[[ 0,  0,  2],\n",
       "          [ 0,  1,  2],\n",
       "          [ 0,  2,  2],\n",
       "          [ 0,  3,  2],\n",
       "          [ 0,  4,  2],\n",
       "          [ 0,  5,  2],\n",
       "          [ 0,  6,  2],\n",
       "          [ 0,  7,  2],\n",
       "          [ 0,  8,  2]],\n",
       "  \n",
       "         [[ 1,  0,  2],\n",
       "          [ 1,  1, -1],\n",
       "          [ 1,  2, -1],\n",
       "          [ 1,  3, -1],\n",
       "          [ 1,  4, -1],\n",
       "          [ 1,  5, -1],\n",
       "          [ 1,  6,  2],\n",
       "          [ 1,  7, -1],\n",
       "          [ 1,  8,  2]],\n",
       "  \n",
       "         [[ 2,  0,  2],\n",
       "          [ 2,  1, -1],\n",
       "          [ 2,  2, -1],\n",
       "          [ 2,  3, -1],\n",
       "          [ 2,  4, -1],\n",
       "          [ 2,  5, -1],\n",
       "          [ 2,  6, -1],\n",
       "          [ 2,  7, -1],\n",
       "          [ 2,  8,  2]],\n",
       "  \n",
       "         [[ 3,  0,  2],\n",
       "          [ 3,  1, -1],\n",
       "          [ 3,  2, -1],\n",
       "          [ 3,  3, -1],\n",
       "          [ 3,  4, -1],\n",
       "          [ 3,  5, -1],\n",
       "          [ 3,  6,  2],\n",
       "          [ 3,  7, -1],\n",
       "          [ 3,  8,  2]],\n",
       "  \n",
       "         [[ 4,  0,  2],\n",
       "          [ 4,  1, -1],\n",
       "          [ 4,  2, -1],\n",
       "          [ 4,  3, -1],\n",
       "          [ 4,  4, -1],\n",
       "          [ 4,  5, -1],\n",
       "          [ 4,  6,  2],\n",
       "          [ 4,  7, -1],\n",
       "          [ 4,  8,  2]],\n",
       "  \n",
       "         [[ 5,  0,  2],\n",
       "          [ 5,  1, -1],\n",
       "          [ 5,  2, -1],\n",
       "          [ 5,  3, -1],\n",
       "          [ 5,  4, -1],\n",
       "          [ 5,  5, -1],\n",
       "          [ 5,  6,  2],\n",
       "          [ 5,  7, -1],\n",
       "          [ 5,  8,  2]],\n",
       "  \n",
       "         [[ 6,  0,  2],\n",
       "          [ 6,  1, -1],\n",
       "          [ 6,  2, -1],\n",
       "          [ 6,  3, -1],\n",
       "          [ 6,  4, -1],\n",
       "          [ 6,  5, -1],\n",
       "          [ 6,  6,  2],\n",
       "          [ 6,  7, -1],\n",
       "          [ 6,  8,  2]],\n",
       "  \n",
       "         [[ 7,  0,  2],\n",
       "          [ 7,  1, -1],\n",
       "          [ 7,  2, -1],\n",
       "          [ 7,  3, -1],\n",
       "          [ 7,  4, -1],\n",
       "          [ 7,  5, -1],\n",
       "          [ 7,  6,  2],\n",
       "          [ 7,  7,  8],\n",
       "          [ 7,  8,  2]],\n",
       "  \n",
       "         [[ 8,  0,  2],\n",
       "          [ 8,  1,  2],\n",
       "          [ 8,  2,  2],\n",
       "          [ 8,  3,  2],\n",
       "          [ 8,  4,  2],\n",
       "          [ 8,  5,  2],\n",
       "          [ 8,  6,  2],\n",
       "          [ 8,  7,  2],\n",
       "          [ 8,  8,  2]]]),\n",
       "  'direction': 1,\n",
       "  'mission': 'find the opening and get to the green goal square'},\n",
       " 0,\n",
       " False,\n",
       " {})"
      ]
     },
     "execution_count": 169,
     "metadata": {},
     "output_type": "execute_result"
    }
   ],
   "source": [
    "environment.step(environment.actions.right)\n",
    "\n"
   ]
  },
  {
   "cell_type": "code",
   "execution_count": 172,
   "id": "f4f82ec6",
   "metadata": {},
   "outputs": [
    {
     "name": "stdout",
     "output_type": "stream",
     "text": [
      "done False\n"
     ]
    }
   ],
   "source": [
    "\n",
    "n_obs, reward, done, _ = environment.step(environment.actions.forward)\n",
    "print('done',done) # RETURNS IN THE LAST MOVEMENT"
   ]
  },
  {
   "cell_type": "code",
   "execution_count": 79,
   "id": "7066470f",
   "metadata": {},
   "outputs": [
    {
     "name": "stdout",
     "output_type": "stream",
     "text": [
      "False\n"
     ]
    }
   ],
   "source": [
    "print(environment)\n"
   ]
  },
  {
   "cell_type": "code",
   "execution_count": null,
   "id": "d2cf15ce",
   "metadata": {},
   "outputs": [],
   "source": []
  }
 ],
 "metadata": {
  "interpreter": {
   "hash": "b26d331d4dddf502e6b25e0053d6571ed4a7305dcdbee31775878ab23fefb4a9"
  },
  "kernelspec": {
   "display_name": "Python 3.8.9 ('AATarea1-A8crnK2f')",
   "language": "python",
   "name": "python3"
  },
  "language_info": {
   "codemirror_mode": {
    "name": "ipython",
    "version": 3
   },
   "file_extension": ".py",
   "mimetype": "text/x-python",
   "name": "python",
   "nbconvert_exporter": "python",
   "pygments_lexer": "ipython3",
   "version": "3.8.9"
  }
 },
 "nbformat": 4,
 "nbformat_minor": 5
}
